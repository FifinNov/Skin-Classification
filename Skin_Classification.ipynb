{
  "cells": [
    {
      "cell_type": "markdown",
      "metadata": {
        "id": "view-in-github",
        "colab_type": "text"
      },
      "source": [
        "<a href=\"https://colab.research.google.com/github/FifinNov/Skin-Classification/blob/main/Skin_Classification.ipynb\" target=\"_parent\"><img src=\"https://colab.research.google.com/assets/colab-badge.svg\" alt=\"Open In Colab\"/></a>"
      ]
    },
    {
      "cell_type": "code",
      "execution_count": null,
      "metadata": {
        "id": "lFJ6lBVqiVHo"
      },
      "outputs": [],
      "source": [
        "import sys\n",
        "import scipy as sci\n",
        "import numpy as np\n",
        "import matplotlib.pyplot as plt\n",
        "import pandas as pd\n",
        "import sklearn\n",
        "from sklearn import model_selection\n",
        "from sklearn.metrics import accuracy_score\n",
        "from sklearn.metrics import confusion_matrix\n",
        "from sklearn.metrics import classification_report\n",
        "from sklearn.neighbors import KNeighborsClassifier\n",
        "from sklearn.naive_bayes import GaussianNB\n",
        "from sklearn.svm import SVC"
      ]
    },
    {
      "cell_type": "code",
      "execution_count": null,
      "metadata": {
        "id": "OCL_lKa2iVHt"
      },
      "outputs": [],
      "source": [
        "url = \"https://archive.ics.uci.edu/ml/machine-learning-databases/00229/Skin_NonSkin.txt\"\n",
        "names = ['Blue','Green','Red','Class']\n",
        "dataset = pd.read_csv(url, sep='\\t', names=names)"
      ]
    },
    {
      "cell_type": "code",
      "execution_count": null,
      "metadata": {
        "id": "oELrMbK7iVHv",
        "outputId": "4e864ba8-5bde-4466-840a-56c9586987af"
      },
      "outputs": [
        {
          "name": "stdout",
          "output_type": "stream",
          "text": [
            "(245057, 4)\n"
          ]
        }
      ],
      "source": [
        "print(dataset.shape)"
      ]
    },
    {
      "cell_type": "code",
      "execution_count": null,
      "metadata": {
        "id": "Yryh0jyTiVHw",
        "outputId": "a2892763-35f0-45a6-9df7-2c4b4ce665b5"
      },
      "outputs": [
        {
          "name": "stdout",
          "output_type": "stream",
          "text": [
            "    Blue  Green  Red  Class\n",
            "0     74     85  123      1\n",
            "1     73     84  122      1\n",
            "2     72     83  121      1\n",
            "3     70     81  119      1\n",
            "4     70     81  119      1\n",
            "5     69     80  118      1\n",
            "6     70     81  119      1\n",
            "7     70     81  119      1\n",
            "8     76     87  125      1\n",
            "9     76     87  125      1\n",
            "10    77     88  126      1\n",
            "11    77     88  126      1\n",
            "12    77     88  126      1\n",
            "13    78     89  127      1\n",
            "14    77     85  125      1\n",
            "15    78     86  126      1\n",
            "16    78     86  126      1\n",
            "17    77     85  125      1\n",
            "18    76     84  124      1\n",
            "19    77     85  125      1\n"
          ]
        }
      ],
      "source": [
        "print(dataset.head(20))"
      ]
    },
    {
      "cell_type": "code",
      "execution_count": null,
      "metadata": {
        "id": "3R3dMUkQiVHx",
        "outputId": "8af5cfa7-661e-4425-8eb0-ca186ed2281d"
      },
      "outputs": [
        {
          "name": "stdout",
          "output_type": "stream",
          "text": [
            "Class\n",
            "1     50859\n",
            "2    194198\n",
            "dtype: int64\n"
          ]
        }
      ],
      "source": [
        "print(dataset.groupby('Class').size())"
      ]
    },
    {
      "cell_type": "code",
      "execution_count": null,
      "metadata": {
        "id": "fYuT-eoqiVHy",
        "outputId": "420b3103-159c-41ea-ae7c-e2748d9b4f4a"
      },
      "outputs": [
        {
          "name": "stdout",
          "output_type": "stream",
          "text": [
            "                Blue          Green            Red          Class\n",
            "count  245057.000000  245057.000000  245057.000000  245057.000000\n",
            "mean      125.065446     132.507327     123.177151       1.792461\n",
            "std        62.255653      59.941197      72.562165       0.405546\n",
            "min         0.000000       0.000000       0.000000       1.000000\n",
            "25%        68.000000      87.000000      70.000000       2.000000\n",
            "50%       139.000000     153.000000     128.000000       2.000000\n",
            "75%       176.000000     177.000000     164.000000       2.000000\n",
            "max       255.000000     255.000000     255.000000       2.000000\n"
          ]
        }
      ],
      "source": [
        "print(dataset.describe())"
      ]
    },
    {
      "cell_type": "code",
      "execution_count": null,
      "metadata": {
        "id": "euc5v0RsiVHz",
        "outputId": "c99bda2e-b0b1-415a-f1d1-5e5b9e4f38f0"
      },
      "outputs": [
        {
          "data": {
            "image/png": "[encoded data removed]",
            "text/plain": [
              "<Figure size 432x288 with 4 Axes>"
            ]
          },
          "metadata": {
            "needs_background": "light"
          },
          "output_type": "display_data"
        }
      ],
      "source": [
        "dataset.plot(kind='box', subplots=True, layout=(2,2), sharex=False, sharey=False)\n",
        "plt.show()"
      ]
    },
    {
      "cell_type": "code",
      "execution_count": null,
      "metadata": {
        "scrolled": true,
        "id": "HkiuGFFliVH0",
        "outputId": "5ad386b7-b50b-4534-9534-826878a70b15"
      },
      "outputs": [
        {
          "data": {
            "image/png": "[encoded data removed]",
            "text/plain": [
              "<Figure size 432x288 with 4 Axes>"
            ]
          },
          "metadata": {
            "needs_background": "light"
          },
          "output_type": "display_data"
        }
      ],
      "source": [
        "dataset.hist()\n",
        "plt.show()"
      ]
    },
    {
      "cell_type": "code",
      "execution_count": null,
      "metadata": {
        "id": "rrtipJb7iVH1",
        "outputId": "ac0daa05-634d-48c0-d4dc-05502ff67bfc"
      },
      "outputs": [
        {
          "data": {
            "image/png": "[encoded data removed]",
            "text/plain": [
              "<Figure size 432x288 with 16 Axes>"
            ]
          },
          "metadata": {
            "needs_background": "light"
          },
          "output_type": "display_data"
        }
      ],
      "source": [
        "from pandas.plotting import scatter_matrix\n",
        "scatter_matrix(dataset)\n",
        "plt.show()"
      ]
    },
    {
      "cell_type": "code",
      "execution_count": null,
      "metadata": {
        "id": "KUjI_aUCiVH2"
      },
      "outputs": [],
      "source": [
        "# Split-out validaiton dataset\n",
        "array = dataset.values\n",
        "X = array[:,0:3]\n",
        "Y = array[:,3]\n",
        "validation_size = 0.20\n",
        "seed = 7\n",
        "X_train, X_validation, Y_train, Y_validation = model_selection.train_test_split(X, Y, test_size=validation_size, random_state=seed)"
      ]
    },
    {
      "cell_type": "code",
      "execution_count": null,
      "metadata": {
        "id": "oNEM7cayiVH4"
      },
      "outputs": [],
      "source": [
        "# Test options and evaluation metric\n",
        "seed = 7\n",
        "scoring = 'accuracy'"
      ]
    },
    {
      "cell_type": "code",
      "execution_count": null,
      "metadata": {
        "id": "stfGXNjKiVH4"
      },
      "outputs": [],
      "source": [
        "# Spot Check Algorithms\n",
        "models = []\n",
        "models.append(('KNN', KNeighborsClassifier()))\n",
        "models.append(('NB', GaussianNB()))\n",
        "models.append(('SVM', SVC()))"
      ]
    },
    {
      "cell_type": "code",
      "execution_count": null,
      "metadata": {
        "id": "tV0tvWIXiVH5",
        "outputId": "d569d2e1-7cf8-4a88-a93c-2646a86bfa26"
      },
      "outputs": [
        {
          "name": "stderr",
          "output_type": "stream",
          "text": [
            "c:\\users\\user\\appdata\\local\\programs\\python\\python37\\lib\\site-packages\\sklearn\\model_selection\\_split.py:297: FutureWarning: Setting a random_state has no effect since shuffle is False. This will raise an error in 0.24. You should leave random_state to its default (None), or set shuffle=True.\n",
            "  FutureWarning\n"
          ]
        },
        {
          "name": "stdout",
          "output_type": "stream",
          "text": [
            "KNN: 0.999439 (0.000125)\n"
          ]
        },
        {
          "name": "stderr",
          "output_type": "stream",
          "text": [
            "c:\\users\\user\\appdata\\local\\programs\\python\\python37\\lib\\site-packages\\sklearn\\model_selection\\_split.py:297: FutureWarning: Setting a random_state has no effect since shuffle is False. This will raise an error in 0.24. You should leave random_state to its default (None), or set shuffle=True.\n",
            "  FutureWarning\n"
          ]
        },
        {
          "name": "stdout",
          "output_type": "stream",
          "text": [
            "NB: 0.924058 (0.001223)\n"
          ]
        },
        {
          "name": "stderr",
          "output_type": "stream",
          "text": [
            "c:\\users\\user\\appdata\\local\\programs\\python\\python37\\lib\\site-packages\\sklearn\\model_selection\\_split.py:297: FutureWarning: Setting a random_state has no effect since shuffle is False. This will raise an error in 0.24. You should leave random_state to its default (None), or set shuffle=True.\n",
            "  FutureWarning\n"
          ]
        },
        {
          "name": "stdout",
          "output_type": "stream",
          "text": [
            "SVM: 0.998240 (0.000251)\n"
          ]
        }
      ],
      "source": [
        "# evaluate each model in turn\n",
        "results = []\n",
        "names = []\n",
        "for name, model in models:\n",
        "    kfold = model_selection.KFold(n_splits=10, random_state=seed)\n",
        "    cv_results = model_selection.cross_val_score(model, X_train, Y_train, cv=kfold, scoring=scoring)\n",
        "    results.append(cv_results)\n",
        "    names.append(name)\n",
        "    msg = \"%s: %f (%f)\" % (name, cv_results.mean(), cv_results.std())\n",
        "    print(msg)"
      ]
    },
    {
      "cell_type": "code",
      "execution_count": null,
      "metadata": {
        "id": "AtYmroMCiVH6",
        "outputId": "97ef4607-edb5-4b6f-b3b9-7ef6088e5cde"
      },
      "outputs": [
        {
          "name": "stdout",
          "output_type": "stream",
          "text": [
            "0.9997347588345711\n",
            "[[10175     0]\n",
            " [   13 38824]]\n",
            "              precision    recall  f1-score   support\n",
            "\n",
            "           1       1.00      1.00      1.00     10175\n",
            "           2       1.00      1.00      1.00     38837\n",
            "\n",
            "    accuracy                           1.00     49012\n",
            "   macro avg       1.00      1.00      1.00     49012\n",
            "weighted avg       1.00      1.00      1.00     49012\n",
            "\n"
          ]
        }
      ],
      "source": [
        "# Make predictions on validation dataset\n",
        "knn = KNeighborsClassifier()\n",
        "knn.fit(X_train, Y_train)\n",
        "predictions = knn.predict(X_validation)\n",
        "print(accuracy_score(Y_validation, predictions))\n",
        "print(confusion_matrix(Y_validation, predictions))\n",
        "print(classification_report(Y_validation, predictions))"
      ]
    }
  ],
  "metadata": {
    "kernelspec": {
      "display_name": "Python 3",
      "language": "python",
      "name": "python3"
    },
    "language_info": {
      "codemirror_mode": {
        "name": "ipython",
        "version": 3
      },
      "file_extension": ".py",
      "mimetype": "text/x-python",
      "name": "python",
      "nbconvert_exporter": "python",
      "pygments_lexer": "ipython3",
      "version": "3.8.3"
    },
    "colab": {
      "provenance": [],
      "include_colab_link": true
    }
  },
  "nbformat": 4,
  "nbformat_minor": 0
}